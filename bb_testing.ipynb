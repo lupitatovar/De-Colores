{
 "cells": [
  {
   "cell_type": "code",
   "execution_count": 1,
   "metadata": {},
   "outputs": [],
   "source": [
    "%matplotlib inline\n",
    "import numpy as np\n",
    "import matplotlib.pyplot as plt\n",
    "import pandas as pd\n",
    "from scipy import *\n",
    "import astropy\n",
    "from astropy import constants as ac\n",
    "import lightkurve\n",
    "from astropy.modeling.models import BlackBody\n",
    "from astropy import units as u"
   ]
  },
  {
   "cell_type": "markdown",
   "metadata": {},
   "source": [
    "\"A scale of 1 shows the Planck function with no scaling in the default units returned by BlackBody.\"\n",
    "\n",
    "https://docs.astropy.org/en/stable/modeling/physical_models.html"
   ]
  },
  {
   "cell_type": "code",
   "execution_count": 2,
   "metadata": {},
   "outputs": [],
   "source": [
    "ang_units = u.erg / (u.cm ** 2 * u.s * u.AA * u.sr)"
   ]
  },
  {
   "cell_type": "code",
   "execution_count": 4,
   "metadata": {},
   "outputs": [
    {
     "data": {
      "text/latex": [
       "$\\mathrm{\\frac{erg}{\\mathring{A}\\,s\\,sr\\,cm^{2}}}$"
      ],
      "text/plain": [
       "Unit(\"erg / (Angstrom cm2 s sr)\")"
      ]
     },
     "execution_count": 4,
     "metadata": {},
     "output_type": "execute_result"
    }
   ],
   "source": [
    "ang_units"
   ]
  },
  {
   "cell_type": "code",
   "execution_count": 11,
   "metadata": {},
   "outputs": [],
   "source": [
    "temperature=10000*u.K\n",
    "bb = BlackBody(temperature=temperature) #if you change units on scale it changes results of bb in each filter curve\n",
    "\n",
    "bb2 = BlackBody(temperature=temperature,scale=1000*ang_units)\n",
    "\n",
    "bb3 = BlackBody(temperature=temperature,scale=10000*ang_units)\n",
    "\n",
    "bb4 = BlackBody(temperature=temperature,scale=1*ang_units)"
   ]
  },
  {
   "cell_type": "code",
   "execution_count": 12,
   "metadata": {},
   "outputs": [],
   "source": [
    "wavelengths = np.logspace(np.log10(1000), np.log10(3e4), num=1000) * u.AA\n",
    "bb_result1 = bb(wavelengths)\n",
    "bb_result2 = bb2(wavelengths)\n",
    "bb_result3 = bb3(wavelengths)\n",
    "bb_result4 = bb4(wavelengths)"
   ]
  },
  {
   "cell_type": "code",
   "execution_count": 13,
   "metadata": {},
   "outputs": [
    {
     "name": "stdout",
     "output_type": "stream",
     "text": [
      "2.2417046215803034e-07 erg / (cm2 Hz s sr)\n",
      "672046138.613519 erg / (Angstrom cm2 s sr)\n",
      "6720461386.135189 erg / (Angstrom cm2 s sr)\n",
      "672046.1386135189 erg / (Angstrom cm2 s sr)\n"
     ]
    }
   ],
   "source": [
    "print(bb_result1[0])\n",
    "print(bb_result2[0])\n",
    "print(bb_result3[0])\n",
    "print(bb_result4[0])"
   ]
  },
  {
   "cell_type": "code",
   "execution_count": 25,
   "metadata": {},
   "outputs": [
    {
     "data": {
      "text/plain": [
       "[<matplotlib.lines.Line2D at 0x7fd60468fc10>]"
      ]
     },
     "execution_count": 25,
     "metadata": {},
     "output_type": "execute_result"
    },
    {
     "data": {
      "image/png": "[encoded data removed]",
      "text/plain": [
       "<Figure size 432x288 with 1 Axes>"
      ]
     },
     "metadata": {
      "needs_background": "light"
     },
     "output_type": "display_data"
    }
   ],
   "source": [
    "#plt.plot(wavelengths,bb_result1)\n",
    "#plt.plot(wavelengths,bb_result2)\n",
    "#plt.plot(wavelengths,bb_result3)\n",
    "plt.plot(wavelengths,bb_result4)"
   ]
  },
  {
   "cell_type": "code",
   "execution_count": null,
   "metadata": {},
   "outputs": [],
   "source": []
  }
 ],
 "metadata": {
  "kernelspec": {
   "display_name": "Python3",
   "language": "python",
   "name": "python3"
  },
  "language_info": {
   "codemirror_mode": {
    "name": "ipython",
    "version": 3
   },
   "file_extension": ".py",
   "mimetype": "text/x-python",
   "name": "python",
   "nbconvert_exporter": "python",
   "pygments_lexer": "ipython3",
   "version": "3.7.9"
  }
 },
 "nbformat": 4,
 "nbformat_minor": 4
}
