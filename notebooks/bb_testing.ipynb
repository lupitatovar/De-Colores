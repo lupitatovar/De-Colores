{
 "cells": [
  {
   "cell_type": "code",
   "execution_count": 1,
   "metadata": {},
   "outputs": [],
   "source": [
    "%matplotlib inline\n",
    "import numpy as np\n",
    "import matplotlib.pyplot as plt\n",
    "import pandas as pd\n",
    "from scipy import *\n",
    "import astropy\n",
    "from astropy import constants as ac\n",
    "import lightkurve\n",
    "from astropy.modeling.models import BlackBody\n",
    "from astropy import units as u"
   ]
  },
  {
   "cell_type": "markdown",
   "metadata": {},
   "source": [
    "\"A scale of 1 shows the Planck function with no scaling in the default units returned by BlackBody.\"\n",
    "\n",
    "https://docs.astropy.org/en/stable/modeling/physical_models.html"
   ]
  },
  {
   "cell_type": "code",
   "execution_count": 12,
   "metadata": {},
   "outputs": [],
   "source": [
    "ang_units = u.erg / (u.cm ** 2 * u.s * u.AA * u.sr)"
   ]
  },
  {
   "cell_type": "code",
   "execution_count": 13,
   "metadata": {},
   "outputs": [
    {
     "data": {
      "text/latex": [
       "$\\mathrm{\\frac{erg}{\\mathring{A}\\,s\\,sr\\,cm^{2}}}$"
      ],
      "text/plain": [
       "Unit(\"erg / (Angstrom cm2 s sr)\")"
      ]
     },
     "execution_count": 13,
     "metadata": {},
     "output_type": "execute_result"
    }
   ],
   "source": [
    "ang_units"
   ]
  },
  {
   "cell_type": "code",
   "execution_count": 17,
   "metadata": {},
   "outputs": [],
   "source": [
    "temperature=3000*u.K\n",
    "bb = BlackBody(temperature=temperature) #if you change units on scale it changes results of bb in each filter curve\n",
    "\n",
    "bb2 = BlackBody(temperature=temperature,scale=1000*ang_units)\n",
    "\n",
    "bb3 = BlackBody(temperature=temperature,scale=10000*ang_units)\n",
    "\n",
    "bb4 = BlackBody(temperature=temperature,scale=1*ang_units)"
   ]
  },
  {
   "cell_type": "code",
   "execution_count": 18,
   "metadata": {},
   "outputs": [],
   "source": [
    "wavelengths = np.logspace(np.log10(1000), np.log10(3e4), num=1000) * u.AA\n",
    "bb_result1 = bb(wavelengths)\n",
    "bb_result2 = bb2(wavelengths)\n",
    "bb_result3 = bb3(wavelengths)\n",
    "bb_result4 = bb4(wavelengths)"
   ]
  },
  {
   "cell_type": "code",
   "execution_count": 32,
   "metadata": {},
   "outputs": [
    {
     "data": {
      "text/latex": [
       "$8.9157265 \\times 10^{-19} \\; \\mathrm{}$"
      ],
      "text/plain": [
       "<Quantity 8.91572648e-19>"
      ]
     },
     "execution_count": 32,
     "metadata": {},
     "output_type": "execute_result"
    }
   ],
   "source": [
    "(2*np.pi*(0.2*6.95e10*u.cm)**2 / (3.69e19*u.cm)**2)"
   ]
  },
  {
   "cell_type": "code",
   "execution_count": 24,
   "metadata": {},
   "outputs": [
    {
     "data": {
      "text/latex": [
       "$[2.5088557 \\times 10^{-28},~2.9031843 \\times 10^{-28},~3.3576308 \\times 10^{-28},~\\dots,~1.7986879 \\times 10^{-15},~1.7804696 \\times 10^{-15},~1.7624114 \\times 10^{-15}] \\; \\mathrm{\\frac{erg}{\\mathring{A}\\,s\\,sr\\,cm^{2}}}$"
      ],
      "text/plain": [
       "<Quantity [2.50885568e-28, 2.90318434e-28, 3.35763077e-28, 3.88106994e-28,\n",
       "           4.48364301e-28, 5.17693153e-28, 5.97415465e-28, 6.89039238e-28,\n",
       "           7.94283796e-28, 9.15108333e-28, 1.05374414e-27, 1.21273103e-27,\n",
       "           1.39495838e-27, 1.60371152e-27, 1.84272390e-27, 2.11623600e-27,\n",
       "           2.42906154e-27, 2.78666208e-27, 3.19523089e-27, 3.66178724e-27,\n",
       "           4.19428234e-27, 4.80171831e-27, 5.49428174e-27, 6.28349345e-27,\n",
       "           7.18237642e-27, 8.20564401e-27, 9.36991068e-27, 1.06939280e-26,\n",
       "           1.21988483e-26, 1.39085204e-26, 1.58498188e-26, 1.80530125e-26,\n",
       "           2.05521764e-26, 2.33856500e-26, 2.65965497e-26, 3.02333392e-26,\n",
       "           3.43504653e-26, 3.90090660e-26, 4.42777584e-26, 5.02335152e-26,\n",
       "           5.69626395e-26, 6.45618473e-26, 7.31394714e-26, 8.28167961e-26,\n",
       "           9.37295395e-26, 1.06029497e-25, 1.19886362e-25, 1.35489748e-25,\n",
       "           1.53051418e-25, 1.72807764e-25, 1.95022541e-25, 2.19989895e-25,\n",
       "           2.48037707e-25, 2.79531289e-25, 3.14877463e-25, 3.54529064e-25,\n",
       "           3.98989906e-25, 4.48820260e-25, 5.04642885e-25, 5.67149678e-25,\n",
       "           6.37108987e-25, 7.15373669e-25, 8.02889942e-25, 9.00707124e-25,\n",
       "           1.00998833e-24, 1.13202223e-24, 1.26823593e-24, 1.42020916e-24,\n",
       "           1.58968977e-24, 1.77861076e-24, 1.98910894e-24, 2.22354534e-24,\n",
       "           2.48452758e-24, 2.77493435e-24, 3.09794214e-24, 3.45705454e-24,\n",
       "           3.85613417e-24, 4.29943765e-24, 4.79165366e-24, 5.33794461e-24,\n",
       "           5.94399194e-24, 6.61604568e-24, 7.36097830e-24, 8.18634346e-24,\n",
       "           9.10043994e-24, 1.01123812e-23, 1.12321713e-23, 1.24707868e-23,\n",
       "           1.38402666e-23, 1.53538089e-23, 1.70258768e-23, 1.88723131e-23,\n",
       "           2.09104640e-23, 2.31593146e-23, 2.56396344e-23, 2.83741361e-23,\n",
       "           3.13876466e-23, 3.47072931e-23, 3.83627035e-23, 4.23862242e-23,\n",
       "           4.68131546e-23, 5.16820012e-23, 5.70347519e-23, 6.29171721e-23,\n",
       "           6.93791243e-23, 7.64749134e-23, 8.42636583e-23, 9.28096931e-23,\n",
       "           1.02182999e-22, 1.12459670e-22, 1.23722414e-22, 1.36061092e-22,\n",
       "           1.49573298e-22, 1.64364984e-22, 1.80551128e-22, 1.98256458e-22,\n",
       "           2.17616222e-22, 2.38777024e-22, 2.61897709e-22, 2.87150324e-22,\n",
       "           3.14721141e-22, 3.44811759e-22, 3.77640277e-22, 4.13442558e-22,\n",
       "           4.52473579e-22, 4.95008873e-22, 5.41346078e-22, 5.91806586e-22,\n",
       "           6.46737309e-22, 7.06512567e-22, 7.71536102e-22, 8.42243228e-22,\n",
       "           9.19103130e-22, 1.00262130e-21, 1.09334218e-21, 1.19185189e-21,\n",
       "           1.29878124e-21, 1.41480888e-21, 1.54066462e-21, 1.67713309e-21,\n",
       "           1.82505744e-21, 1.98534348e-21, 2.15896393e-21, 2.34696298e-21,\n",
       "           2.55046121e-21, 2.77066066e-21, 3.00885036e-21, 3.26641211e-21,\n",
       "           3.54482664e-21, 3.84568012e-21, 4.17067110e-21, 4.52161781e-21,\n",
       "           4.90046593e-21, 5.30929680e-21, 5.75033609e-21, 6.22596301e-21,\n",
       "           6.73872000e-21, 7.29132304e-21, 7.88667243e-21, 8.52786430e-21,\n",
       "           9.21820272e-21, 9.96121240e-21, 1.07606522e-20, 1.16205293e-20,\n",
       "           1.25451143e-20, 1.35389568e-20, 1.46069020e-20, 1.57541086e-20,\n",
       "           1.69860666e-20, 1.83086173e-20, 1.97279731e-20, 2.12507395e-20,\n",
       "           2.28839373e-20, 2.46350261e-20, 2.65119297e-20, 2.85230618e-20,\n",
       "           3.06773535e-20, 3.29842819e-20, 3.54539007e-20, 3.80968713e-20,\n",
       "           4.09244961e-20, 4.39487534e-20, 4.71823334e-20, 5.06386765e-20,\n",
       "           5.43320131e-20, 5.82774052e-20, 6.24907899e-20, 6.69890250e-20,\n",
       "           7.17899366e-20, 7.69123687e-20, 8.23762355e-20, 8.82025751e-20,\n",
       "           9.44136061e-20, 1.01032787e-19, 1.08084877e-19, 1.15596002e-19,\n",
       "           1.23593717e-19, 1.32107082e-19, 1.41166730e-19, 1.50804941e-19,\n",
       "           1.61055727e-19, 1.71954907e-19, 1.83540197e-19, 1.95851292e-19,\n",
       "           2.08929964e-19, 2.22820155e-19, 2.37568075e-19, 2.53222304e-19,\n",
       "           2.69833901e-19, 2.87456512e-19, 3.06146486e-19, 3.25962994e-19,\n",
       "           3.46968148e-19, 3.69227136e-19, 3.92808345e-19, 4.17783504e-19,\n",
       "           4.44227821e-19, 4.72220134e-19, 5.01843055e-19, 5.33183131e-19,\n",
       "           5.66331004e-19, 6.01381577e-19, 6.38434186e-19, 6.77592775e-19,\n",
       "           7.18966085e-19, 7.62667833e-19, 8.08816918e-19, 8.57537609e-19,\n",
       "           9.08959761e-19, 9.63219024e-19, 1.02045706e-18, 1.08082177e-18,\n",
       "           1.14446752e-18, 1.21155539e-18, 1.28225341e-18, 1.35673682e-18,\n",
       "           1.43518830e-18, 1.51779828e-18, 1.60476518e-18, 1.69629568e-18,\n",
       "           1.79260506e-18, 1.89391741e-18, 2.00046600e-18, 2.11249358e-18,\n",
       "           2.23025264e-18, 2.35400580e-18, 2.48402609e-18, 2.62059731e-18,\n",
       "           2.76401440e-18, 2.91458372e-18, 3.07262348e-18, 3.23846407e-18,\n",
       "           3.41244845e-18, 3.59493253e-18, 3.78628555e-18, 3.98689049e-18,\n",
       "           4.19714447e-18, 4.41745914e-18, 4.64826115e-18, 4.88999253e-18,\n",
       "           5.14311116e-18, 5.40809117e-18, 5.68542343e-18, 5.97561598e-18,\n",
       "           6.27919449e-18, 6.59670277e-18, 6.92870320e-18, 7.27577721e-18,\n",
       "           7.63852581e-18, 8.01757007e-18, 8.41355160e-18, 8.82713307e-18,\n",
       "           9.25899874e-18, 9.70985497e-18, 1.01804307e-17, 1.06714781e-17,\n",
       "           1.11837729e-17, 1.17181152e-17, 1.22753297e-17, 1.28562666e-17,\n",
       "           1.34618018e-17, 1.40928378e-17, 1.47503037e-17, 1.54351566e-17,\n",
       "           1.61483815e-17, 1.68909920e-17, 1.76640310e-17, 1.84685712e-17,\n",
       "           1.93057156e-17, 2.01765984e-17, 2.10823849e-17, 2.20242728e-17,\n",
       "           2.30034923e-17, 2.40213069e-17, 2.50790138e-17, 2.61779447e-17,\n",
       "           2.73194660e-17, 2.85049797e-17, 2.97359239e-17, 3.10137730e-17,\n",
       "           3.23400389e-17, 3.37162708e-17, 3.51440563e-17, 3.66250218e-17,\n",
       "           3.81608326e-17, 3.97531942e-17, 4.14038521e-17, 4.31145926e-17,\n",
       "           4.48872433e-17, 4.67236734e-17, 4.86257946e-17, 5.05955608e-17,\n",
       "           5.26349695e-17, 5.47460612e-17, 5.69309208e-17, 5.91916772e-17,\n",
       "           6.15305043e-17, 6.39496210e-17, 6.64512914e-17, 6.90378259e-17,\n",
       "           7.17115806e-17, 7.44749583e-17, 7.73304083e-17, 8.02804270e-17,\n",
       "           8.33275580e-17, 8.64743923e-17, 8.97235685e-17, 9.30777733e-17,\n",
       "           9.65397410e-17, 1.00112254e-16, 1.03798144e-16, 1.07600289e-16,\n",
       "           1.11521618e-16, 1.15565105e-16, 1.19733775e-16, 1.24030701e-16,\n",
       "           1.28459004e-16, 1.33021853e-16, 1.37722465e-16, 1.42564106e-16,\n",
       "           1.47550089e-16, 1.52683774e-16, 1.57968570e-16, 1.63407931e-16,\n",
       "           1.69005361e-16, 1.74764406e-16, 1.80688662e-16, 1.86781769e-16,\n",
       "           1.93047412e-16, 1.99489322e-16, 2.06111273e-16, 2.12917083e-16,\n",
       "           2.19910613e-16, 2.27095767e-16, 2.34476490e-16, 2.42056770e-16,\n",
       "           2.49840633e-16, 2.57832145e-16, 2.66035413e-16, 2.74454579e-16,\n",
       "           2.83093824e-16, 2.91957365e-16, 3.01049453e-16, 3.10374373e-16,\n",
       "           3.19936444e-16, 3.29740018e-16, 3.39789475e-16, 3.50089227e-16,\n",
       "           3.60643713e-16, 3.71457401e-16, 3.82534782e-16, 3.93880375e-16,\n",
       "           4.05498719e-16, 4.17394377e-16, 4.29571931e-16, 4.42035982e-16,\n",
       "           4.54791149e-16, 4.67842067e-16, 4.81193384e-16, 4.94849760e-16,\n",
       "           5.08815869e-16, 5.23096389e-16, 5.37696010e-16, 5.52619425e-16,\n",
       "           5.67871332e-16, 5.83456430e-16, 5.99379417e-16, 6.15644993e-16,\n",
       "           6.32257849e-16, 6.49222673e-16, 6.66544145e-16, 6.84226935e-16,\n",
       "           7.02275700e-16, 7.20695084e-16, 7.39489713e-16, 7.58664197e-16,\n",
       "           7.78223123e-16, 7.98171057e-16, 8.18512539e-16, 8.39252081e-16,\n",
       "           8.60394168e-16, 8.81943250e-16, 9.03903745e-16, 9.26280033e-16,\n",
       "           9.49076456e-16, 9.72297315e-16, 9.95946865e-16, 1.02002932e-15,\n",
       "           1.04454884e-15, 1.06950953e-15, 1.09491546e-15, 1.12077063e-15,\n",
       "           1.14707898e-15, 1.17384439e-15, 1.20107070e-15, 1.22876164e-15,\n",
       "           1.25692091e-15, 1.28555212e-15, 1.31465883e-15, 1.34424449e-15,\n",
       "           1.37431250e-15, 1.40486618e-15, 1.43590874e-15, 1.46744333e-15,\n",
       "           1.49947301e-15, 1.53200074e-15, 1.56502940e-15, 1.59856177e-15,\n",
       "           1.63260052e-15, 1.66714825e-15, 1.70220744e-15, 1.73778046e-15,\n",
       "           1.77386958e-15, 1.81047697e-15, 1.84760469e-15, 1.88525467e-15,\n",
       "           1.92342875e-15, 1.96212862e-15, 2.00135588e-15, 2.04111201e-15,\n",
       "           2.08139834e-15, 2.12221610e-15, 2.16356638e-15, 2.20545015e-15,\n",
       "           2.24786824e-15, 2.29082136e-15, 2.33431007e-15, 2.37833481e-15,\n",
       "           2.42289587e-15, 2.46799341e-15, 2.51362744e-15, 2.55979784e-15,\n",
       "           2.60650433e-15, 2.65374649e-15, 2.70152376e-15, 2.74983544e-15,\n",
       "           2.79868065e-15, 2.84805839e-15, 2.89796750e-15, 2.94840666e-15,\n",
       "           2.99937440e-15, 3.05086910e-15, 3.10288898e-15, 3.15543210e-15,\n",
       "           3.20849637e-15, 3.26207954e-15, 3.31617921e-15, 3.37079279e-15,\n",
       "           3.42591757e-15, 3.48155066e-15, 3.53768901e-15, 3.59432941e-15,\n",
       "           3.65146849e-15, 3.70910273e-15, 3.76722842e-15, 3.82584171e-15,\n",
       "           3.88493860e-15, 3.94451490e-15, 4.00456628e-15, 4.06508825e-15,\n",
       "           4.12607614e-15, 4.18752513e-15, 4.24943026e-15, 4.31178639e-15,\n",
       "           4.37458821e-15, 4.43783029e-15, 4.50150701e-15, 4.56561261e-15,\n",
       "           4.63014117e-15, 4.69508661e-15, 4.76044271e-15, 4.82620310e-15,\n",
       "           4.89236123e-15, 4.95891044e-15, 5.02584389e-15, 5.09315461e-15,\n",
       "           5.16083549e-15, 5.22887925e-15, 5.29727849e-15, 5.36602567e-15,\n",
       "           5.43511311e-15, 5.50453297e-15, 5.57427730e-15, 5.64433801e-15,\n",
       "           5.71470688e-15, 5.78537556e-15, 5.85633556e-15, 5.92757828e-15,\n",
       "           5.99909500e-15, 6.07087686e-15, 6.14291490e-15, 6.21520005e-15,\n",
       "           6.28772309e-15, 6.36047473e-15, 6.43344554e-15, 6.50662602e-15,\n",
       "           6.58000653e-15, 6.65357734e-15, 6.72732864e-15, 6.80125051e-15,\n",
       "           6.87533293e-15, 6.94956580e-15, 7.02393895e-15, 7.09844208e-15,\n",
       "           7.17306487e-15, 7.24779687e-15, 7.32262758e-15, 7.39754643e-15,\n",
       "           7.47254278e-15, 7.54760591e-15, 7.62272505e-15, 7.69788938e-15,\n",
       "           7.77308801e-15, 7.84831000e-15, 7.92354436e-15, 7.99878006e-15,\n",
       "           8.07400603e-15, 8.14921115e-15, 8.22438426e-15, 8.29951419e-15,\n",
       "           8.37458972e-15, 8.44959961e-15, 8.52453260e-15, 8.59937742e-15,\n",
       "           8.67412276e-15, 8.74875732e-15, 8.82326978e-15, 8.89764882e-15,\n",
       "           8.97188311e-15, 9.04596133e-15, 9.11987217e-15, 9.19360431e-15,\n",
       "           9.26714645e-15, 9.34048731e-15, 9.41361563e-15, 9.48652016e-15,\n",
       "           9.55918969e-15, 9.63161302e-15, 9.70377899e-15, 9.77567649e-15,\n",
       "           9.84729443e-15, 9.91862176e-15, 9.98964749e-15, 1.00603607e-14,\n",
       "           1.01307504e-14, 1.02008058e-14, 1.02705161e-14, 1.03398707e-14,\n",
       "           1.04088587e-14, 1.04774697e-14, 1.05456931e-14, 1.06135184e-14,\n",
       "           1.06809353e-14, 1.07479335e-14, 1.08145028e-14, 1.08806329e-14,\n",
       "           1.09463140e-14, 1.10115359e-14, 1.10762890e-14, 1.11405633e-14,\n",
       "           1.12043492e-14, 1.12676372e-14, 1.13304178e-14, 1.13926816e-14,\n",
       "           1.14544194e-14, 1.15156220e-14, 1.15762804e-14, 1.16363858e-14,\n",
       "           1.16959292e-14, 1.17549020e-14, 1.18132957e-14, 1.18711018e-14,\n",
       "           1.19283120e-14, 1.19849182e-14, 1.20409123e-14, 1.20962864e-14,\n",
       "           1.21510327e-14, 1.22051435e-14, 1.22586114e-14, 1.23114290e-14,\n",
       "           1.23635890e-14, 1.24150843e-14, 1.24659081e-14, 1.25160535e-14,\n",
       "           1.25655138e-14, 1.26142826e-14, 1.26623535e-14, 1.27097202e-14,\n",
       "           1.27563768e-14, 1.28023173e-14, 1.28475359e-14, 1.28920271e-14,\n",
       "           1.29357855e-14, 1.29788057e-14, 1.30210825e-14, 1.30626111e-14,\n",
       "           1.31033867e-14, 1.31434045e-14, 1.31826600e-14, 1.32211490e-14,\n",
       "           1.32588673e-14, 1.32958107e-14, 1.33319756e-14, 1.33673581e-14,\n",
       "           1.34019548e-14, 1.34357623e-14, 1.34687773e-14, 1.35009969e-14,\n",
       "           1.35324181e-14, 1.35630383e-14, 1.35928547e-14, 1.36218652e-14,\n",
       "           1.36500673e-14, 1.36774591e-14, 1.37040386e-14, 1.37298041e-14,\n",
       "           1.37547539e-14, 1.37788866e-14, 1.38022010e-14, 1.38246959e-14,\n",
       "           1.38463703e-14, 1.38672235e-14, 1.38872548e-14, 1.39064637e-14,\n",
       "           1.39248499e-14, 1.39424131e-14, 1.39591534e-14, 1.39750709e-14,\n",
       "           1.39901657e-14, 1.40044385e-14, 1.40178896e-14, 1.40305199e-14,\n",
       "           1.40423302e-14, 1.40533214e-14, 1.40634949e-14, 1.40728518e-14,\n",
       "           1.40813936e-14, 1.40891218e-14, 1.40960383e-14, 1.41021448e-14,\n",
       "           1.41074433e-14, 1.41119361e-14, 1.41156252e-14, 1.41185132e-14,\n",
       "           1.41206025e-14, 1.41218958e-14, 1.41223959e-14, 1.41221057e-14,\n",
       "           1.41210282e-14, 1.41191665e-14, 1.41165240e-14, 1.41131041e-14,\n",
       "           1.41089101e-14, 1.41039459e-14, 1.40982150e-14, 1.40917214e-14,\n",
       "           1.40844690e-14, 1.40764619e-14, 1.40677043e-14, 1.40582004e-14,\n",
       "           1.40479546e-14, 1.40369714e-14, 1.40252554e-14, 1.40128114e-14,\n",
       "           1.39996439e-14, 1.39857580e-14, 1.39711585e-14, 1.39558506e-14,\n",
       "           1.39398394e-14, 1.39231301e-14, 1.39057279e-14, 1.38876384e-14,\n",
       "           1.38688669e-14, 1.38494190e-14, 1.38293004e-14, 1.38085166e-14,\n",
       "           1.37870736e-14, 1.37649771e-14, 1.37422331e-14, 1.37188474e-14,\n",
       "           1.36948262e-14, 1.36701756e-14, 1.36449017e-14, 1.36190106e-14,\n",
       "           1.35925088e-14, 1.35654025e-14, 1.35376981e-14, 1.35094020e-14,\n",
       "           1.34805207e-14, 1.34510608e-14, 1.34210287e-14, 1.33904312e-14,\n",
       "           1.33592748e-14, 1.33275663e-14, 1.32953123e-14, 1.32625197e-14,\n",
       "           1.32291952e-14, 1.31953456e-14, 1.31609779e-14, 1.31260989e-14,\n",
       "           1.30907155e-14, 1.30548346e-14, 1.30184633e-14, 1.29816084e-14,\n",
       "           1.29442770e-14, 1.29064761e-14, 1.28682126e-14, 1.28294938e-14,\n",
       "           1.27903265e-14, 1.27507180e-14, 1.27106751e-14, 1.26702052e-14,\n",
       "           1.26293151e-14, 1.25880120e-14, 1.25463030e-14, 1.25041952e-14,\n",
       "           1.24616957e-14, 1.24188115e-14, 1.23755498e-14, 1.23319176e-14,\n",
       "           1.22879220e-14, 1.22435701e-14, 1.21988689e-14, 1.21538255e-14,\n",
       "           1.21084469e-14, 1.20627401e-14, 1.20167121e-14, 1.19703700e-14,\n",
       "           1.19237206e-14, 1.18767709e-14, 1.18295279e-14, 1.17819985e-14,\n",
       "           1.17341895e-14, 1.16861078e-14, 1.16377603e-14, 1.15891538e-14,\n",
       "           1.15402950e-14, 1.14911906e-14, 1.14418476e-14, 1.13922724e-14,\n",
       "           1.13424718e-14, 1.12924525e-14, 1.12422210e-14, 1.11917838e-14,\n",
       "           1.11411476e-14, 1.10903187e-14, 1.10393038e-14, 1.09881091e-14,\n",
       "           1.09367410e-14, 1.08852060e-14, 1.08335102e-14, 1.07816600e-14,\n",
       "           1.07296616e-14, 1.06775211e-14, 1.06252447e-14, 1.05728384e-14,\n",
       "           1.05203083e-14, 1.04676604e-14, 1.04149006e-14, 1.03620349e-14,\n",
       "           1.03090690e-14, 1.02560089e-14, 1.02028602e-14, 1.01496287e-14,\n",
       "           1.00963200e-14, 1.00429397e-14, 9.98949344e-15, 9.93598666e-15,\n",
       "           9.88242484e-15, 9.82881338e-15, 9.77515763e-15, 9.72146290e-15,\n",
       "           9.66773443e-15, 9.61397741e-15, 9.56019699e-15, 9.50639826e-15,\n",
       "           9.45258624e-15, 9.39876591e-15, 9.34494221e-15, 9.29111998e-15,\n",
       "           9.23730406e-15, 9.18349920e-15, 9.12971010e-15, 9.07594141e-15,\n",
       "           9.02219771e-15, 8.96848356e-15, 8.91480342e-15, 8.86116171e-15,\n",
       "           8.80756282e-15, 8.75401104e-15, 8.70051063e-15, 8.64706580e-15,\n",
       "           8.59368067e-15, 8.54035934e-15, 8.48710584e-15, 8.43392414e-15,\n",
       "           8.38081816e-15, 8.32779174e-15, 8.27484871e-15, 8.22199281e-15,\n",
       "           8.16922772e-15, 8.11655708e-15, 8.06398448e-15, 8.01151343e-15,\n",
       "           7.95914740e-15, 7.90688981e-15, 7.85474401e-15, 7.80271331e-15,\n",
       "           7.75080094e-15, 7.69901011e-15, 7.64734394e-15, 7.59580552e-15,\n",
       "           7.54439789e-15, 7.49312400e-15, 7.44198678e-15, 7.39098911e-15,\n",
       "           7.34013378e-15, 7.28942356e-15, 7.23886117e-15, 7.18844924e-15,\n",
       "           7.13819039e-15, 7.08808716e-15, 7.03814205e-15, 6.98835750e-15,\n",
       "           6.93873593e-15, 6.88927966e-15, 6.83999099e-15, 6.79087217e-15,\n",
       "           6.74192538e-15, 6.69315279e-15, 6.64455647e-15, 6.59613847e-15,\n",
       "           6.54790081e-15, 6.49984541e-15, 6.45197419e-15, 6.40428901e-15,\n",
       "           6.35679166e-15, 6.30948391e-15, 6.26236747e-15, 6.21544402e-15,\n",
       "           6.16871517e-15, 6.12218251e-15, 6.07584756e-15, 6.02971183e-15,\n",
       "           5.98377674e-15, 5.93804371e-15, 5.89251410e-15, 5.84718921e-15,\n",
       "           5.80207033e-15, 5.75715868e-15, 5.71245546e-15, 5.66796182e-15,\n",
       "           5.62367886e-15, 5.57960765e-15, 5.53574923e-15, 5.49210457e-15,\n",
       "           5.44867464e-15, 5.40546035e-15, 5.36246257e-15, 5.31968213e-15,\n",
       "           5.27711984e-15, 5.23477646e-15, 5.19265271e-15, 5.15074930e-15,\n",
       "           5.10906686e-15, 5.06760602e-15, 5.02636738e-15, 4.98535147e-15,\n",
       "           4.94455882e-15, 4.90398991e-15, 4.86364520e-15, 4.82352509e-15,\n",
       "           4.78362999e-15, 4.74396024e-15, 4.70451618e-15, 4.66529809e-15,\n",
       "           4.62630623e-15, 4.58754085e-15, 4.54900214e-15, 4.51069029e-15,\n",
       "           4.47260543e-15, 4.43474769e-15, 4.39711716e-15, 4.35971391e-15,\n",
       "           4.32253795e-15, 4.28558932e-15, 4.24886799e-15, 4.21237393e-15,\n",
       "           4.17610705e-15, 4.14006728e-15, 4.10425450e-15, 4.06866856e-15,\n",
       "           4.03330931e-15, 3.99817655e-15, 3.96327007e-15, 3.92858965e-15,\n",
       "           3.89413503e-15, 3.85990594e-15, 3.82590206e-15, 3.79212310e-15,\n",
       "           3.75856870e-15, 3.72523851e-15, 3.69213216e-15, 3.65924923e-15,\n",
       "           3.62658932e-15, 3.59415199e-15, 3.56193679e-15, 3.52994324e-15,\n",
       "           3.49817085e-15, 3.46661911e-15, 3.43528751e-15, 3.40417550e-15,\n",
       "           3.37328252e-15, 3.34260801e-15, 3.31215137e-15, 3.28191200e-15,\n",
       "           3.25188929e-15, 3.22208259e-15, 3.19249127e-15, 3.16311466e-15,\n",
       "           3.13395209e-15, 3.10500287e-15, 3.07626631e-15, 3.04774168e-15,\n",
       "           3.01942827e-15, 2.99132533e-15, 2.96343212e-15, 2.93574788e-15,\n",
       "           2.90827183e-15, 2.88100320e-15, 2.85394118e-15, 2.82708499e-15,\n",
       "           2.80043381e-15, 2.77398680e-15, 2.74774315e-15, 2.72170201e-15,\n",
       "           2.69586254e-15, 2.67022386e-15, 2.64478512e-15, 2.61954545e-15,\n",
       "           2.59450395e-15, 2.56965974e-15, 2.54501193e-15, 2.52055961e-15,\n",
       "           2.49630186e-15, 2.47223777e-15, 2.44836641e-15, 2.42468687e-15,\n",
       "           2.40119819e-15, 2.37789944e-15, 2.35478967e-15, 2.33186793e-15,\n",
       "           2.30913326e-15, 2.28658470e-15, 2.26422129e-15, 2.24204205e-15,\n",
       "           2.22004600e-15, 2.19823218e-15, 2.17659959e-15, 2.15514726e-15,\n",
       "           2.13387418e-15, 2.11277938e-15, 2.09186185e-15, 2.07112059e-15,\n",
       "           2.05055461e-15, 2.03016290e-15, 2.00994446e-15, 1.98989827e-15,\n",
       "           1.97002334e-15, 1.95031864e-15, 1.93078317e-15, 1.91141591e-15,\n",
       "           1.89221584e-15, 1.87318196e-15, 1.85431324e-15, 1.83560866e-15,\n",
       "           1.81706721e-15, 1.79868787e-15, 1.78046962e-15, 1.76241143e-15] erg / (Angstrom cm2 s sr)>"
      ]
     },
     "execution_count": 24,
     "metadata": {},
     "output_type": "execute_result"
    }
   ],
   "source": [
    "bb_result4 * ((0.2*6.95e10*u.cm)**2 / (3.69e19*u.cm)**2)"
   ]
  },
  {
   "cell_type": "code",
   "execution_count": 19,
   "metadata": {},
   "outputs": [
    {
     "name": "stdout",
     "output_type": "stream",
     "text": [
      "5.897637953018289e-22 erg / (cm2 Hz s sr)\n",
      "1.7680673783294409e-06 erg / (Angstrom cm2 s sr)\n",
      "1.768067378329441e-05 erg / (Angstrom cm2 s sr)\n",
      "1.768067378329441e-09 erg / (Angstrom cm2 s sr)\n"
     ]
    }
   ],
   "source": [
    "print(bb_result1[0])\n",
    "print(bb_result2[0])\n",
    "print(bb_result3[0])\n",
    "print(bb_result4[0])"
   ]
  },
  {
   "cell_type": "code",
   "execution_count": 33,
   "metadata": {},
   "outputs": [
    {
     "data": {
      "text/plain": [
       "(4000.0, 12000.0)"
      ]
     },
     "execution_count": 33,
     "metadata": {},
     "output_type": "execute_result"
    },
    {
     "data": {
      "image/png": "[encoded data removed]",
      "text/plain": [
       "<Figure size 640x480 with 1 Axes>"
      ]
     },
     "metadata": {},
     "output_type": "display_data"
    }
   ],
   "source": [
    "#plt.plot(wavelengths,bb_result1)\n",
    "#plt.plot(wavelengths,bb_result2)\n",
    "#plt.plot(wavelengths,bb_result3)\n",
    "plt.plot(wavelengths,bb_result4*(2*np.pi*(0.2*6.95e10*u.cm)**2 / (3.69e19*u.cm)**2))\n",
    "plt.xlim(4000,12000)"
   ]
  },
  {
   "cell_type": "code",
   "execution_count": null,
   "metadata": {},
   "outputs": [],
   "source": []
  }
 ],
 "metadata": {
  "kernelspec": {
   "display_name": "Python3",
   "language": "python",
   "name": "python3"
  },
  "language_info": {
   "codemirror_mode": {
    "name": "ipython",
    "version": 3
   },
   "file_extension": ".py",
   "mimetype": "text/x-python",
   "name": "python",
   "nbconvert_exporter": "python",
   "pygments_lexer": "ipython3",
   "version": "3.7.9"
  }
 },
 "nbformat": 4,
 "nbformat_minor": 4
}
