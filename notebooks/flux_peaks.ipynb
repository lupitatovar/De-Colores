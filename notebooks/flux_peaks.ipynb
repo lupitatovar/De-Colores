{
 "cells": [
  {
   "cell_type": "code",
   "execution_count": 1,
   "metadata": {},
   "outputs": [],
   "source": [
    "%matplotlib inline\n",
    "import numpy as np\n",
    "import matplotlib.pyplot as plt\n",
    "import pandas as pd\n",
    "from scipy import *\n",
    "import astropy\n",
    "from astropy import constants as ac\n",
    "#from astroquery.mast import Observations\n",
    "import lightkurve\n",
    "import celerite\n",
    "from celerite import terms\n",
    "from scipy.optimize import minimize\n",
    "from astropy.io import fits\n",
    "from astropy.table import Table"
   ]
  },
  {
   "cell_type": "code",
   "execution_count": 2,
   "metadata": {},
   "outputs": [],
   "source": [
    "from matplotlib import rcParams\n",
    "rcParams[\"savefig.dpi\"] = 100\n",
    "rcParams[\"figure.dpi\"] = 100\n",
    "rcParams[\"font.size\"] = 20\n",
    "rcParams[\"figure.figsize\"] = [8, 5]\n",
    "rcParams[\"font.family\"] = \"sans - serif\"\n",
    "rcParams[\"font.sans-serif\"] = [\"Verdana\"]\n",
    "rcParams[\"text.usetex\"] = True\n"
   ]
  },
  {
   "cell_type": "markdown",
   "metadata": {},
   "source": [
    "### Kepler Flares"
   ]
  },
  {
   "cell_type": "code",
   "execution_count": 3,
   "metadata": {},
   "outputs": [],
   "source": [
    "#2014 Flares List\n",
    "\n",
    "flare_table=pd.read_csv('https://raw.githubusercontent.com/jradavenport/GJ1243-Flares/master/data/gj1243_master_flares.tbl',\n",
    "            skiprows=23,delim_whitespace=True,names=['index of flare start in \"gj1243_master_slc.dat\"',\n",
    "                                                   'index of flare stop in \"gj1243_master_slc.dat\"','t_start','t_stop'\n",
    "                                                   ,'t_peak','t_rise','t_decay','flux peak',\n",
    "                                                   'ED','Duration of rise',\n",
    "                                                   'Duration of decay','Complex flag',\n",
    "                                                   '# of people that identified flare event exists',\n",
    "                                                   '# of people that analyzed this month',\n",
    "                                                   '# of flare template components fit to event'])\n",
    "t_starts=flare_table.loc[:,'t_start']\n",
    "t_stops=flare_table.loc[:,'t_stop']\n",
    "flux_peak = flare_table.loc[:,'flux peak'].values\n",
    "complex_flag = flare_table['Complex flag'] #2=complex, 1 = classical\n",
    "ED = flare_table['ED'] #units=seconds\n",
    "flare_table['Flare_Duration'] = 1440.*(t_stops-t_starts) #units = minutes"
   ]
  },
  {
   "cell_type": "markdown",
   "metadata": {},
   "source": [
    "### TESS Flares"
   ]
  },
  {
   "cell_type": "code",
   "execution_count": 4,
   "metadata": {},
   "outputs": [],
   "source": [
    "#Importing in all of the TESS FLARES (classical/complex) 132\n",
    "tess_flares= pd.read_csv('/Users/lupitatovar/TESS/all_tess_flares.txt',delim_whitespace=True,comment='#',names = ['Event_ID', 'Start_INDX', 'Stop_INDX', 't_peak', 't_start', 't_stop', 't_rise', 't_decay', \n",
    "            'Flux_peak', 'Equiv_Dur', 'S/N', 'CPLX_flg', 'MLTPK_flg', 'MLTPK_num', 't_MLTPK', 'L_mltpk', \n",
    "            'MLTPK_INDX', 'quies','x'])[1:]\n",
    "tess_t_starts = tess_flares.loc[:,'t_start'].values\n",
    "tess_t_stops = tess_flares.loc[:,'t_stop'].values\n",
    "flux_peak = tess_flares.loc[:,'Flux_peak'].values\n",
    "t_complex_flag = tess_flares.loc[:,'CPLX_flg'].values\n",
    "tess_flares['Flare_Duration'] = 1440.*(tess_t_stops-tess_t_starts)\n",
    "\n",
    "\n",
    "#secotr 41\n",
    "tess_flares41= pd.read_csv('/Users/lupitatovar/local_flares/final_flare_lists/TESS/tesss41.dat.fbeye',delim_whitespace=True,comment='#',names = ['Event_ID', 'Start_INDX', 'Stop_INDX', 't_peak', 't_start', 't_stop', 't_rise', 't_decay', \n",
    "            'Flux_peak', 'Equiv_Dur', 'S/N', 'CPLX_flg', 'MLTPK_flg', 'MLTPK_num', 't_MLTPK', 'L_mltpk', \n",
    "            'MLTPK_INDX', 'quies','x'])[1:]\n",
    "tess_flares41['Flare_Duration'] = 1440.*(tess_flares41.loc[:,'t_stop'].values-tess_flares41.loc[:,'t_start'].values)"
   ]
  },
  {
   "cell_type": "markdown",
   "metadata": {},
   "source": [
    "combining all the tess flares including s41"
   ]
  },
  {
   "cell_type": "code",
   "execution_count": 7,
   "metadata": {},
   "outputs": [],
   "source": [
    "#combining all the tess flares including s41\n",
    "frames = [tess_flares,tess_flares41]\n",
    "full_tess = pd.concat(frames)\n",
    "#full_tess"
   ]
  },
  {
   "cell_type": "code",
   "execution_count": 28,
   "metadata": {},
   "outputs": [
    {
     "data": {
      "text/html": [
       "<div>\n",
       "<style scoped>\n",
       "    .dataframe tbody tr th:only-of-type {\n",
       "        vertical-align: middle;\n",
       "    }\n",
       "\n",
       "    .dataframe tbody tr th {\n",
       "        vertical-align: top;\n",
       "    }\n",
       "\n",
       "    .dataframe thead th {\n",
       "        text-align: right;\n",
       "    }\n",
       "</style>\n",
       "<table border=\"1\" class=\"dataframe\">\n",
       "  <thead>\n",
       "    <tr style=\"text-align: right;\">\n",
       "      <th></th>\n",
       "      <th>Event_ID</th>\n",
       "      <th>Start_INDX</th>\n",
       "      <th>Stop_INDX</th>\n",
       "      <th>t_peak</th>\n",
       "      <th>t_start</th>\n",
       "      <th>t_stop</th>\n",
       "      <th>t_rise</th>\n",
       "      <th>t_decay</th>\n",
       "      <th>Flux_peak</th>\n",
       "      <th>Equiv_Dur</th>\n",
       "      <th>S/N</th>\n",
       "      <th>CPLX_flg</th>\n",
       "      <th>MLTPK_flg</th>\n",
       "      <th>MLTPK_num</th>\n",
       "      <th>t_MLTPK</th>\n",
       "      <th>L_mltpk</th>\n",
       "      <th>MLTPK_INDX</th>\n",
       "      <th>quies</th>\n",
       "      <th>x</th>\n",
       "      <th>Flare_Duration</th>\n",
       "    </tr>\n",
       "  </thead>\n",
       "  <tbody>\n",
       "    <tr>\n",
       "      <th>1</th>\n",
       "      <td>2</td>\n",
       "      <td>332.0</td>\n",
       "      <td>336.0</td>\n",
       "      <td>1683.831182</td>\n",
       "      <td>1683.828405</td>\n",
       "      <td>1683.833960</td>\n",
       "      <td>0.002778</td>\n",
       "      <td>0.002778</td>\n",
       "      <td>0.004359</td>\n",
       "      <td>1.039416</td>\n",
       "      <td>0.856315</td>\n",
       "      <td>4.0</td>\n",
       "      <td>0.0</td>\n",
       "      <td>0.0</td>\n",
       "      <td>0.0</td>\n",
       "      <td>0.0</td>\n",
       "      <td>0.0</td>\n",
       "      <td>11337.21094</td>\n",
       "      <td>;</td>\n",
       "      <td>8.000106</td>\n",
       "    </tr>\n",
       "    <tr>\n",
       "      <th>2</th>\n",
       "      <td>3</td>\n",
       "      <td>618.0</td>\n",
       "      <td>622.0</td>\n",
       "      <td>1684.233965</td>\n",
       "      <td>1684.232576</td>\n",
       "      <td>1684.238132</td>\n",
       "      <td>0.001389</td>\n",
       "      <td>0.004167</td>\n",
       "      <td>0.004396</td>\n",
       "      <td>1.021397</td>\n",
       "      <td>0.698504</td>\n",
       "      <td>4.0</td>\n",
       "      <td>0.0</td>\n",
       "      <td>0.0</td>\n",
       "      <td>0.0</td>\n",
       "      <td>0.0</td>\n",
       "      <td>0.0</td>\n",
       "      <td>11377.51562</td>\n",
       "      <td>;</td>\n",
       "      <td>8.000103</td>\n",
       "    </tr>\n",
       "    <tr>\n",
       "      <th>3</th>\n",
       "      <td>4</td>\n",
       "      <td>676.0</td>\n",
       "      <td>685.0</td>\n",
       "      <td>1684.315911</td>\n",
       "      <td>1684.313133</td>\n",
       "      <td>1684.325633</td>\n",
       "      <td>0.002778</td>\n",
       "      <td>0.009722</td>\n",
       "      <td>0.011388</td>\n",
       "      <td>4.056827</td>\n",
       "      <td>1.721060</td>\n",
       "      <td>4.0</td>\n",
       "      <td>0.0</td>\n",
       "      <td>0.0</td>\n",
       "      <td>0.0</td>\n",
       "      <td>0.0</td>\n",
       "      <td>0.0</td>\n",
       "      <td>11337.41602</td>\n",
       "      <td>;</td>\n",
       "      <td>18.000231</td>\n",
       "    </tr>\n",
       "    <tr>\n",
       "      <th>4</th>\n",
       "      <td>5</td>\n",
       "      <td>1619.0</td>\n",
       "      <td>1628.0</td>\n",
       "      <td>1685.624261</td>\n",
       "      <td>1685.622872</td>\n",
       "      <td>1685.635372</td>\n",
       "      <td>0.001389</td>\n",
       "      <td>0.011111</td>\n",
       "      <td>0.007767</td>\n",
       "      <td>2.732755</td>\n",
       "      <td>1.365432</td>\n",
       "      <td>4.0</td>\n",
       "      <td>0.0</td>\n",
       "      <td>0.0</td>\n",
       "      <td>0.0</td>\n",
       "      <td>0.0</td>\n",
       "      <td>0.0</td>\n",
       "      <td>11342.76758</td>\n",
       "      <td>;</td>\n",
       "      <td>18.000222</td>\n",
       "    </tr>\n",
       "    <tr>\n",
       "      <th>5</th>\n",
       "      <td>6</td>\n",
       "      <td>1655.0</td>\n",
       "      <td>1661.0</td>\n",
       "      <td>1685.674261</td>\n",
       "      <td>1685.672872</td>\n",
       "      <td>1685.681206</td>\n",
       "      <td>0.001389</td>\n",
       "      <td>0.006945</td>\n",
       "      <td>0.006291</td>\n",
       "      <td>1.887355</td>\n",
       "      <td>1.065632</td>\n",
       "      <td>4.0</td>\n",
       "      <td>0.0</td>\n",
       "      <td>0.0</td>\n",
       "      <td>0.0</td>\n",
       "      <td>0.0</td>\n",
       "      <td>0.0</td>\n",
       "      <td>11338.58984</td>\n",
       "      <td>;</td>\n",
       "      <td>12.000148</td>\n",
       "    </tr>\n",
       "    <tr>\n",
       "      <th>...</th>\n",
       "      <td>...</td>\n",
       "      <td>...</td>\n",
       "      <td>...</td>\n",
       "      <td>...</td>\n",
       "      <td>...</td>\n",
       "      <td>...</td>\n",
       "      <td>...</td>\n",
       "      <td>...</td>\n",
       "      <td>...</td>\n",
       "      <td>...</td>\n",
       "      <td>...</td>\n",
       "      <td>...</td>\n",
       "      <td>...</td>\n",
       "      <td>...</td>\n",
       "      <td>...</td>\n",
       "      <td>...</td>\n",
       "      <td>...</td>\n",
       "      <td>...</td>\n",
       "      <td>...</td>\n",
       "      <td>...</td>\n",
       "    </tr>\n",
       "    <tr>\n",
       "      <th>47</th>\n",
       "      <td>57</td>\n",
       "      <td>10134.0</td>\n",
       "      <td>10142.0</td>\n",
       "      <td>2435.203239</td>\n",
       "      <td>2435.197683</td>\n",
       "      <td>2435.208794</td>\n",
       "      <td>0.005556</td>\n",
       "      <td>0.005556</td>\n",
       "      <td>0.004420</td>\n",
       "      <td>1.816458</td>\n",
       "      <td>1.095057</td>\n",
       "      <td>4.0</td>\n",
       "      <td>0.0</td>\n",
       "      <td>0.0</td>\n",
       "      <td>0.0</td>\n",
       "      <td>0.0</td>\n",
       "      <td>0.0</td>\n",
       "      <td>11302.00879</td>\n",
       "      <td>;</td>\n",
       "      <td>15.999987</td>\n",
       "    </tr>\n",
       "    <tr>\n",
       "      <th>48</th>\n",
       "      <td>58</td>\n",
       "      <td>10750.0</td>\n",
       "      <td>10849.0</td>\n",
       "      <td>2436.058794</td>\n",
       "      <td>2436.054627</td>\n",
       "      <td>2436.192127</td>\n",
       "      <td>0.004167</td>\n",
       "      <td>0.133333</td>\n",
       "      <td>0.039386</td>\n",
       "      <td>127.881465</td>\n",
       "      <td>10.561373</td>\n",
       "      <td>1.0</td>\n",
       "      <td>0.0</td>\n",
       "      <td>0.0</td>\n",
       "      <td>0.0</td>\n",
       "      <td>0.0</td>\n",
       "      <td>0.0</td>\n",
       "      <td>11299.08105</td>\n",
       "      <td>;</td>\n",
       "      <td>197.999829</td>\n",
       "    </tr>\n",
       "    <tr>\n",
       "      <th>49</th>\n",
       "      <td>59</td>\n",
       "      <td>11061.0</td>\n",
       "      <td>11084.0</td>\n",
       "      <td>2436.492127</td>\n",
       "      <td>2436.486571</td>\n",
       "      <td>2436.518515</td>\n",
       "      <td>0.005556</td>\n",
       "      <td>0.026389</td>\n",
       "      <td>0.011841</td>\n",
       "      <td>8.704707</td>\n",
       "      <td>2.393503</td>\n",
       "      <td>2.0</td>\n",
       "      <td>0.0</td>\n",
       "      <td>0.0</td>\n",
       "      <td>0.0</td>\n",
       "      <td>0.0</td>\n",
       "      <td>0.0</td>\n",
       "      <td>11317.58105</td>\n",
       "      <td>;</td>\n",
       "      <td>45.999958</td>\n",
       "    </tr>\n",
       "    <tr>\n",
       "      <th>50</th>\n",
       "      <td>60</td>\n",
       "      <td>13780.0</td>\n",
       "      <td>13797.0</td>\n",
       "      <td>2440.281011</td>\n",
       "      <td>2440.272677</td>\n",
       "      <td>2440.296288</td>\n",
       "      <td>0.008333</td>\n",
       "      <td>0.015278</td>\n",
       "      <td>0.006244</td>\n",
       "      <td>3.916223</td>\n",
       "      <td>1.463201</td>\n",
       "      <td>1.0</td>\n",
       "      <td>0.0</td>\n",
       "      <td>0.0</td>\n",
       "      <td>0.0</td>\n",
       "      <td>0.0</td>\n",
       "      <td>0.0</td>\n",
       "      <td>11324.44336</td>\n",
       "      <td>;</td>\n",
       "      <td>33.999943</td>\n",
       "    </tr>\n",
       "    <tr>\n",
       "      <th>51</th>\n",
       "      <td>61</td>\n",
       "      <td>14915.0</td>\n",
       "      <td>14929.0</td>\n",
       "      <td>2441.856008</td>\n",
       "      <td>2441.850452</td>\n",
       "      <td>2441.869897</td>\n",
       "      <td>0.005556</td>\n",
       "      <td>0.013889</td>\n",
       "      <td>0.004653</td>\n",
       "      <td>3.124782</td>\n",
       "      <td>1.386778</td>\n",
       "      <td>1.0</td>\n",
       "      <td>0.0</td>\n",
       "      <td>0.0</td>\n",
       "      <td>0.0</td>\n",
       "      <td>0.0</td>\n",
       "      <td>0.0</td>\n",
       "      <td>11312.93555</td>\n",
       "      <td>;</td>\n",
       "      <td>27.999943</td>\n",
       "    </tr>\n",
       "  </tbody>\n",
       "</table>\n",
       "<p>183 rows × 20 columns</p>\n",
       "</div>"
      ],
      "text/plain": [
       "    Event_ID  Start_INDX  Stop_INDX       t_peak      t_start       t_stop  \\\n",
       "1          2       332.0      336.0  1683.831182  1683.828405  1683.833960   \n",
       "2          3       618.0      622.0  1684.233965  1684.232576  1684.238132   \n",
       "3          4       676.0      685.0  1684.315911  1684.313133  1684.325633   \n",
       "4          5      1619.0     1628.0  1685.624261  1685.622872  1685.635372   \n",
       "5          6      1655.0     1661.0  1685.674261  1685.672872  1685.681206   \n",
       "..       ...         ...        ...          ...          ...          ...   \n",
       "47        57     10134.0    10142.0  2435.203239  2435.197683  2435.208794   \n",
       "48        58     10750.0    10849.0  2436.058794  2436.054627  2436.192127   \n",
       "49        59     11061.0    11084.0  2436.492127  2436.486571  2436.518515   \n",
       "50        60     13780.0    13797.0  2440.281011  2440.272677  2440.296288   \n",
       "51        61     14915.0    14929.0  2441.856008  2441.850452  2441.869897   \n",
       "\n",
       "      t_rise   t_decay  Flux_peak   Equiv_Dur        S/N  CPLX_flg  MLTPK_flg  \\\n",
       "1   0.002778  0.002778   0.004359    1.039416   0.856315       4.0        0.0   \n",
       "2   0.001389  0.004167   0.004396    1.021397   0.698504       4.0        0.0   \n",
       "3   0.002778  0.009722   0.011388    4.056827   1.721060       4.0        0.0   \n",
       "4   0.001389  0.011111   0.007767    2.732755   1.365432       4.0        0.0   \n",
       "5   0.001389  0.006945   0.006291    1.887355   1.065632       4.0        0.0   \n",
       "..       ...       ...        ...         ...        ...       ...        ...   \n",
       "47  0.005556  0.005556   0.004420    1.816458   1.095057       4.0        0.0   \n",
       "48  0.004167  0.133333   0.039386  127.881465  10.561373       1.0        0.0   \n",
       "49  0.005556  0.026389   0.011841    8.704707   2.393503       2.0        0.0   \n",
       "50  0.008333  0.015278   0.006244    3.916223   1.463201       1.0        0.0   \n",
       "51  0.005556  0.013889   0.004653    3.124782   1.386778       1.0        0.0   \n",
       "\n",
       "    MLTPK_num  t_MLTPK  L_mltpk  MLTPK_INDX        quies  x  Flare_Duration  \n",
       "1         0.0      0.0      0.0         0.0  11337.21094  ;        8.000106  \n",
       "2         0.0      0.0      0.0         0.0  11377.51562  ;        8.000103  \n",
       "3         0.0      0.0      0.0         0.0  11337.41602  ;       18.000231  \n",
       "4         0.0      0.0      0.0         0.0  11342.76758  ;       18.000222  \n",
       "5         0.0      0.0      0.0         0.0  11338.58984  ;       12.000148  \n",
       "..        ...      ...      ...         ...          ... ..             ...  \n",
       "47        0.0      0.0      0.0         0.0  11302.00879  ;       15.999987  \n",
       "48        0.0      0.0      0.0         0.0  11299.08105  ;      197.999829  \n",
       "49        0.0      0.0      0.0         0.0  11317.58105  ;       45.999958  \n",
       "50        0.0      0.0      0.0         0.0  11324.44336  ;       33.999943  \n",
       "51        0.0      0.0      0.0         0.0  11312.93555  ;       27.999943  \n",
       "\n",
       "[183 rows x 20 columns]"
      ]
     },
     "execution_count": 28,
     "metadata": {},
     "output_type": "execute_result"
    }
   ],
   "source": [
    "full_tess"
   ]
  },
  {
   "cell_type": "markdown",
   "metadata": {},
   "source": [
    "### Loading in the gp + detrended lightcurves\n",
    "\n",
    "Kepler"
   ]
  },
  {
   "cell_type": "code",
   "execution_count": 8,
   "metadata": {},
   "outputs": [
    {
     "name": "stdout",
     "output_type": "stream",
     "text": [
      "0 (46806, 7)\n",
      "1 (42289, 7)\n",
      "2 (32946, 7)\n",
      "3 (39984, 7)\n",
      "4 (44060, 7)\n",
      "5 (34037, 7)\n",
      "6 (45254, 7)\n",
      "7 (39630, 7)\n",
      "8 (43978, 7)\n",
      "9 (45006, 7)\n",
      "10 (39121, 7)\n"
     ]
    },
    {
     "data": {
      "image/png": "[encoded data removed]",
      "text/plain": [
       "<Figure size 1500x400 with 1 Axes>"
      ]
     },
     "metadata": {
      "needs_background": "light"
     },
     "output_type": "display_data"
    }
   ],
   "source": [
    "from glob import glob\n",
    "\n",
    "gp_files = glob('/Users/lupitatovar/local_flares/notebooks/*11mo*.csv')\n",
    "\n",
    "for k in range(len(gp_files)): \n",
    "    df_tmp = pd.read_csv(gp_files[k]) \n",
    "    print(k, df_tmp.shape) \n",
    "    if k==0: \n",
    "        df = df_tmp \n",
    "    else: \n",
    "         df = df.append(df_tmp) \n",
    "\n",
    "df = df.sort_values(by='time')\n",
    "\n",
    "plt.figure(figsize=(15,4))\n",
    "plt.plot(df['time'], df['detrended_flux'])\n",
    "plt.plot(df['time'], df['mean'])\n",
    "plt.show()"
   ]
  },
  {
   "cell_type": "markdown",
   "metadata": {},
   "source": [
    "TESS "
   ]
  },
  {
   "cell_type": "code",
   "execution_count": 55,
   "metadata": {},
   "outputs": [
    {
     "name": "stdout",
     "output_type": "stream",
     "text": [
      "0 (18522, 7)\n",
      "1 (17848, 7)\n",
      "2 (18322, 7)\n"
     ]
    },
    {
     "data": {
      "image/png": "[encoded data removed]",
      "text/plain": [
       "<Figure size 1500x400 with 1 Axes>"
      ]
     },
     "metadata": {
      "needs_background": "light"
     },
     "output_type": "display_data"
    }
   ],
   "source": [
    "tess_gp_files = glob('/Users/lupitatovar/local_flares/notebooks/*tess_gp*.csv')\n",
    "\n",
    "for k in range(len(tess_gp_files)): \n",
    "    df_tmp_t = pd.read_csv(tess_gp_files[k]) \n",
    "    print(k, df_tmp_t.shape) \n",
    "    if k==0: \n",
    "        df_t = df_tmp_t \n",
    "    else: \n",
    "         df_t = df.append(df_tmp_t) \n",
    "\n",
    "df_t = df_t.sort_values(by='time')\n",
    "\n",
    "plt.figure(figsize=(15,4))\n",
    "plt.plot(df_t['time'], df_t['detrended_flux'])\n",
    "plt.plot(df_t['time'], df_t['mean'])\n",
    "plt.show()"
   ]
  },
  {
   "cell_type": "code",
   "execution_count": 11,
   "metadata": {},
   "outputs": [
    {
     "data": {
      "text/html": [
       "<div>\n",
       "<style scoped>\n",
       "    .dataframe tbody tr th:only-of-type {\n",
       "        vertical-align: middle;\n",
       "    }\n",
       "\n",
       "    .dataframe tbody tr th {\n",
       "        vertical-align: top;\n",
       "    }\n",
       "\n",
       "    .dataframe thead th {\n",
       "        text-align: right;\n",
       "    }\n",
       "</style>\n",
       "<table border=\"1\" class=\"dataframe\">\n",
       "  <thead>\n",
       "    <tr style=\"text-align: right;\">\n",
       "      <th></th>\n",
       "      <th>Unnamed: 0</th>\n",
       "      <th>time</th>\n",
       "      <th>mean</th>\n",
       "      <th>std</th>\n",
       "      <th>var</th>\n",
       "      <th>detrended_flux</th>\n",
       "      <th>df_flux_err</th>\n",
       "    </tr>\n",
       "  </thead>\n",
       "  <tbody>\n",
       "    <tr>\n",
       "      <th>0</th>\n",
       "      <td>0</td>\n",
       "      <td>539.460097</td>\n",
       "      <td>1.011202</td>\n",
       "      <td>0.000224</td>\n",
       "      <td>4.999456e-08</td>\n",
       "      <td>1.013348</td>\n",
       "      <td>0.000350</td>\n",
       "    </tr>\n",
       "    <tr>\n",
       "      <th>1</th>\n",
       "      <td>1</td>\n",
       "      <td>539.460779</td>\n",
       "      <td>1.011067</td>\n",
       "      <td>0.000205</td>\n",
       "      <td>4.213541e-08</td>\n",
       "      <td>1.011877</td>\n",
       "      <td>0.000350</td>\n",
       "    </tr>\n",
       "    <tr>\n",
       "      <th>2</th>\n",
       "      <td>2</td>\n",
       "      <td>539.461460</td>\n",
       "      <td>1.010932</td>\n",
       "      <td>0.000189</td>\n",
       "      <td>3.568156e-08</td>\n",
       "      <td>1.011497</td>\n",
       "      <td>0.000350</td>\n",
       "    </tr>\n",
       "    <tr>\n",
       "      <th>3</th>\n",
       "      <td>3</td>\n",
       "      <td>539.462141</td>\n",
       "      <td>1.010796</td>\n",
       "      <td>0.000175</td>\n",
       "      <td>3.046917e-08</td>\n",
       "      <td>1.010790</td>\n",
       "      <td>0.000350</td>\n",
       "    </tr>\n",
       "    <tr>\n",
       "      <th>4</th>\n",
       "      <td>4</td>\n",
       "      <td>539.462822</td>\n",
       "      <td>1.010661</td>\n",
       "      <td>0.000162</td>\n",
       "      <td>2.633292e-08</td>\n",
       "      <td>1.010560</td>\n",
       "      <td>0.000350</td>\n",
       "    </tr>\n",
       "    <tr>\n",
       "      <th>...</th>\n",
       "      <td>...</td>\n",
       "      <td>...</td>\n",
       "      <td>...</td>\n",
       "      <td>...</td>\n",
       "      <td>...</td>\n",
       "      <td>...</td>\n",
       "      <td>...</td>\n",
       "    </tr>\n",
       "    <tr>\n",
       "      <th>18317</th>\n",
       "      <td>18317</td>\n",
       "      <td>2446.575441</td>\n",
       "      <td>1.000382</td>\n",
       "      <td>0.000411</td>\n",
       "      <td>1.685660e-07</td>\n",
       "      <td>0.999498</td>\n",
       "      <td>0.001282</td>\n",
       "    </tr>\n",
       "    <tr>\n",
       "      <th>18318</th>\n",
       "      <td>18318</td>\n",
       "      <td>2446.576830</td>\n",
       "      <td>1.000341</td>\n",
       "      <td>0.000424</td>\n",
       "      <td>1.796651e-07</td>\n",
       "      <td>0.999876</td>\n",
       "      <td>0.001282</td>\n",
       "    </tr>\n",
       "    <tr>\n",
       "      <th>18319</th>\n",
       "      <td>18319</td>\n",
       "      <td>2446.578219</td>\n",
       "      <td>1.000302</td>\n",
       "      <td>0.000438</td>\n",
       "      <td>1.917277e-07</td>\n",
       "      <td>1.000922</td>\n",
       "      <td>0.001282</td>\n",
       "    </tr>\n",
       "    <tr>\n",
       "      <th>18320</th>\n",
       "      <td>18320</td>\n",
       "      <td>2446.579608</td>\n",
       "      <td>1.000264</td>\n",
       "      <td>0.000453</td>\n",
       "      <td>2.047762e-07</td>\n",
       "      <td>1.000394</td>\n",
       "      <td>0.001282</td>\n",
       "    </tr>\n",
       "    <tr>\n",
       "      <th>18321</th>\n",
       "      <td>18321</td>\n",
       "      <td>2446.580997</td>\n",
       "      <td>1.000227</td>\n",
       "      <td>0.000468</td>\n",
       "      <td>2.188244e-07</td>\n",
       "      <td>1.001697</td>\n",
       "      <td>0.001283</td>\n",
       "    </tr>\n",
       "  </tbody>\n",
       "</table>\n",
       "<p>471433 rows × 7 columns</p>\n",
       "</div>"
      ],
      "text/plain": [
       "       Unnamed: 0         time      mean       std           var  \\\n",
       "0               0   539.460097  1.011202  0.000224  4.999456e-08   \n",
       "1               1   539.460779  1.011067  0.000205  4.213541e-08   \n",
       "2               2   539.461460  1.010932  0.000189  3.568156e-08   \n",
       "3               3   539.462141  1.010796  0.000175  3.046917e-08   \n",
       "4               4   539.462822  1.010661  0.000162  2.633292e-08   \n",
       "...           ...          ...       ...       ...           ...   \n",
       "18317       18317  2446.575441  1.000382  0.000411  1.685660e-07   \n",
       "18318       18318  2446.576830  1.000341  0.000424  1.796651e-07   \n",
       "18319       18319  2446.578219  1.000302  0.000438  1.917277e-07   \n",
       "18320       18320  2446.579608  1.000264  0.000453  2.047762e-07   \n",
       "18321       18321  2446.580997  1.000227  0.000468  2.188244e-07   \n",
       "\n",
       "       detrended_flux  df_flux_err  \n",
       "0            1.013348     0.000350  \n",
       "1            1.011877     0.000350  \n",
       "2            1.011497     0.000350  \n",
       "3            1.010790     0.000350  \n",
       "4            1.010560     0.000350  \n",
       "...               ...          ...  \n",
       "18317        0.999498     0.001282  \n",
       "18318        0.999876     0.001282  \n",
       "18319        1.000922     0.001282  \n",
       "18320        1.000394     0.001282  \n",
       "18321        1.001697     0.001283  \n",
       "\n",
       "[471433 rows x 7 columns]"
      ]
     },
     "execution_count": 11,
     "metadata": {},
     "output_type": "execute_result"
    }
   ],
   "source": [
    "df_t"
   ]
  },
  {
   "cell_type": "code",
   "execution_count": 10,
   "metadata": {},
   "outputs": [],
   "source": [
    "import sys  \n",
    "sys.path.append('/Users/lupitatovar/Llamaradas-Estelares/') #Edit this to your own file path\n",
    "from Flare_model import flare_model"
   ]
  },
  {
   "cell_type": "markdown",
   "metadata": {},
   "source": [
    "Identifying the Kepler Flare peaks by taking lightcurve - gp within each flare and finding the peak flux"
   ]
  },
  {
   "cell_type": "code",
   "execution_count": 12,
   "metadata": {},
   "outputs": [],
   "source": [
    "#detrended lightcurve (flux values)\n",
    "detrended_kepler = df['detrended_flux'].values - df['mean'].values"
   ]
  },
  {
   "cell_type": "code",
   "execution_count": 17,
   "metadata": {},
   "outputs": [
    {
     "data": {
      "text/plain": [
       "2.024291980117108"
      ]
     },
     "execution_count": 17,
     "metadata": {},
     "output_type": "execute_result"
    }
   ],
   "source": [
    "max(detrended_kepler)"
   ]
  },
  {
   "cell_type": "code",
   "execution_count": 14,
   "metadata": {},
   "outputs": [],
   "source": [
    "kepler_errors = np.sqrt((df['df_flux_err'].values)**2 + (df['std'].values) )"
   ]
  },
  {
   "cell_type": "code",
   "execution_count": 15,
   "metadata": {},
   "outputs": [
    {
     "name": "stdout",
     "output_type": "stream",
     "text": [
      "[0.01495718 0.01433149 0.01374838 ... 0.01355633 0.01407975 0.01463597]\n"
     ]
    }
   ],
   "source": [
    "print(kepler_errors)"
   ]
  },
  {
   "cell_type": "code",
   "execution_count": 16,
   "metadata": {},
   "outputs": [
    {
     "data": {
      "text/plain": [
       "[<matplotlib.lines.Line2D at 0x7fdef19f2710>]"
      ]
     },
     "execution_count": 16,
     "metadata": {},
     "output_type": "execute_result"
    },
    {
     "data": {
      "image/png": "[encoded data removed]",
      "text/plain": [
       "<Figure size 800x500 with 1 Axes>"
      ]
     },
     "metadata": {
      "needs_background": "light"
     },
     "output_type": "display_data"
    }
   ],
   "source": [
    "plt.plot(detrended_kepler)"
   ]
  },
  {
   "cell_type": "markdown",
   "metadata": {},
   "source": [
    "Loop that identifies the peaks of flares within the detrended light curve"
   ]
  },
  {
   "cell_type": "code",
   "execution_count": 23,
   "metadata": {},
   "outputs": [],
   "source": [
    "kep_amps = []\n",
    "for i in range (0,len(flare_table)):\n",
    "\n",
    "    #Defining times of each flare event\n",
    "    i_temp = np.where((df['time'].values <= (t_stops[i]+0.01)) & \n",
    "                    (df['time'].values >= (t_starts[i]-0.005)))[0]\n",
    "    \n",
    "    #time where the peak flux occurs\n",
    "    kep_peak_time = t_stops - t_starts #start+stop /2\n",
    "    \n",
    "    #peak flux amplitude\n",
    "    kep_amp = max(detrended_kepler[i_temp])\n",
    "    \n",
    "    kep_amps=np.append(kep_amps,kep_amp)"
   ]
  },
  {
   "cell_type": "code",
   "execution_count": 24,
   "metadata": {},
   "outputs": [
    {
     "data": {
      "text/plain": [
       "6107"
      ]
     },
     "execution_count": 24,
     "metadata": {},
     "output_type": "execute_result"
    }
   ],
   "source": [
    "len(kep_amps)"
   ]
  },
  {
   "cell_type": "code",
   "execution_count": 26,
   "metadata": {},
   "outputs": [
    {
     "name": "stdout",
     "output_type": "stream",
     "text": [
      "0.0018404994019221022\n",
      "0.0014693\n"
     ]
    }
   ],
   "source": [
    "print(kep_amps[0])\n",
    "print(flare_table['flux peak'][0])"
   ]
  },
  {
   "cell_type": "code",
   "execution_count": 52,
   "metadata": {},
   "outputs": [
    {
     "name": "stdout",
     "output_type": "stream",
     "text": [
      "2.024291980117108\n",
      "2.024291980117108\n"
     ]
    }
   ],
   "source": [
    "print(max(detrended_tess))\n",
    "print(max(detrended_kepler))"
   ]
  },
  {
   "cell_type": "markdown",
   "metadata": {},
   "source": [
    "Now for tess"
   ]
  },
  {
   "cell_type": "code",
   "execution_count": 69,
   "metadata": {},
   "outputs": [],
   "source": [
    "tess_t_starts = full_tess.loc[:,'t_start'].values\n",
    "tess_t_stops = full_tess.loc[:,'t_stop'].values"
   ]
  },
  {
   "cell_type": "code",
   "execution_count": 56,
   "metadata": {},
   "outputs": [],
   "source": [
    "#detrended lightcurve (flux values)\n",
    "detrended_tess = df_t['detrended_flux'].values - df_t['mean'].values\n",
    "tess_errors = np.sqrt((df_t['df_flux_err'].values)**2 + (df_t['std'].values) )"
   ]
  },
  {
   "cell_type": "code",
   "execution_count": 66,
   "metadata": {},
   "outputs": [
    {
     "data": {
      "text/plain": [
       "array([], dtype=int64)"
      ]
     },
     "execution_count": 66,
     "metadata": {},
     "output_type": "execute_result"
    }
   ],
   "source": [
    "np.where((df_t['time'].values <= (full_tess['t_stop'].values[i]+0.01)) & \n",
    "                    (df_t['time'].values >= (full_tess['t_start'].values[i]-0.005)))[0]"
   ]
  },
  {
   "cell_type": "code",
   "execution_count": 71,
   "metadata": {},
   "outputs": [
    {
     "ename": "ValueError",
     "evalue": "max() arg is an empty sequence",
     "output_type": "error",
     "traceback": [
      "\u001b[0;31m---------------------------------------------------------------------------\u001b[0m",
      "\u001b[0;31mValueError\u001b[0m                                Traceback (most recent call last)",
      "\u001b[0;32m<ipython-input-71-7e2471f61675>\u001b[0m in \u001b[0;36m<module>\u001b[0;34m\u001b[0m\n\u001b[1;32m     11\u001b[0m \u001b[0;34m\u001b[0m\u001b[0m\n\u001b[1;32m     12\u001b[0m     \u001b[0;31m#peak flux amplitude\u001b[0m\u001b[0;34m\u001b[0m\u001b[0;34m\u001b[0m\u001b[0;34m\u001b[0m\u001b[0m\n\u001b[0;32m---> 13\u001b[0;31m     \u001b[0mtess_amp\u001b[0m \u001b[0;34m=\u001b[0m \u001b[0mmax\u001b[0m\u001b[0;34m(\u001b[0m\u001b[0mdetrended_tess\u001b[0m\u001b[0;34m[\u001b[0m\u001b[0mi_temp2\u001b[0m\u001b[0;34m]\u001b[0m\u001b[0;34m)\u001b[0m\u001b[0;34m\u001b[0m\u001b[0;34m\u001b[0m\u001b[0m\n\u001b[0m\u001b[1;32m     14\u001b[0m \u001b[0;34m\u001b[0m\u001b[0m\n\u001b[1;32m     15\u001b[0m     \u001b[0mtess_amps\u001b[0m\u001b[0;34m=\u001b[0m\u001b[0mnp\u001b[0m\u001b[0;34m.\u001b[0m\u001b[0mappend\u001b[0m\u001b[0;34m(\u001b[0m\u001b[0mtess_amps\u001b[0m\u001b[0;34m,\u001b[0m\u001b[0mtess_amp\u001b[0m\u001b[0;34m)\u001b[0m\u001b[0;34m\u001b[0m\u001b[0;34m\u001b[0m\u001b[0m\n",
      "\u001b[0;31mValueError\u001b[0m: max() arg is an empty sequence"
     ]
    }
   ],
   "source": [
    "tess_amps = []\n",
    "for i in range (0,len(full_tess)):\n",
    "\n",
    "    #Defining times of each flare event\n",
    "    \n",
    "    i_temp2 = np.where((df_t['time'].values <= (tess_t_stops[i]+0.01)) & \n",
    "                    (df_t['time'].values >= (tess_t_starts[i]-0.005)))[0]\n",
    "    \n",
    "    #time where the peak flux occurs\n",
    "    #tess_peak_time = full_tess['t_stop'].values - full_tess['t_start'].values #start+stop /2\n",
    "    \n",
    "    #peak flux amplitude\n",
    "    tess_amp = max(detrended_tess[i_temp2])\n",
    "    \n",
    "    tess_amps=np.append(tess_amps,tess_amp)"
   ]
  },
  {
   "cell_type": "markdown",
   "metadata": {},
   "source": [
    "Saving list of identified amps"
   ]
  },
  {
   "cell_type": "code",
   "execution_count": 72,
   "metadata": {},
   "outputs": [
    {
     "name": "stdout",
     "output_type": "stream",
     "text": [
      "6107\n",
      "453111\n",
      "453111\n",
      "453111\n"
     ]
    }
   ],
   "source": [
    "print(len(kep_amps))\n",
    "print(len(df['time'].values))\n",
    "print(len(detrended_kepler))\n",
    "print(len(kepler_errors))"
   ]
  },
  {
   "cell_type": "code",
   "execution_count": 73,
   "metadata": {},
   "outputs": [],
   "source": [
    "k_array = [df['time'].values,detrended_kepler,kepler_errors,kep_amps]"
   ]
  },
  {
   "cell_type": "code",
   "execution_count": 76,
   "metadata": {},
   "outputs": [],
   "source": [
    "kepler_new_amps = pd.DataFrame({'Amps':kep_amps})"
   ]
  },
  {
   "cell_type": "code",
   "execution_count": 78,
   "metadata": {},
   "outputs": [],
   "source": [
    "#kepler_new_amps.to_csv('kepler_new_amps.csv')"
   ]
  },
  {
   "cell_type": "code",
   "execution_count": null,
   "metadata": {},
   "outputs": [],
   "source": []
  }
 ],
 "metadata": {
  "kernelspec": {
   "display_name": "Python3",
   "language": "python",
   "name": "python3"
  },
  "language_info": {
   "codemirror_mode": {
    "name": "ipython",
    "version": 3
   },
   "file_extension": ".py",
   "mimetype": "text/x-python",
   "name": "python",
   "nbconvert_exporter": "python",
   "pygments_lexer": "ipython3",
   "version": "3.7.9"
  }
 },
 "nbformat": 4,
 "nbformat_minor": 4
}
